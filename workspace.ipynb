{
 "cells": [
  {
   "cell_type": "code",
   "execution_count": 6,
   "metadata": {},
   "outputs": [],
   "source": [
    "import requests\n",
    "from bs4 import BeautifulSoup\n",
    "import pprint\n",
    "import json\n",
    "import pandas as pd\n",
    "import csv\n",
    "\n",
    "jobs = []\n",
    "\n",
    "for i in range(0,5):\n",
    "    res = requests.get(\n",
    "        f\"https://www.linkedin.com/jobs/search?trk=guest_homepage-basic_guest_nav_menu_jobs&position=1&pageNum={i}\"\n",
    "    )\n",
    "    soup = BeautifulSoup(res.text, \"html.parser\")\n",
    "    job_class = soup.select(\".base-card\")\n",
    "\n",
    "    for job in job_class:\n",
    "        job_company = job.select_one(\".base-search-card__subtitle\").get_text(strip=True)\n",
    "        job_title = job.select_one(\".base-search-card__title\").get_text(strip=True)\n",
    "        job_location = job.select_one(\".job-search-card__location\").get_text(strip=True)\n",
    "        job_href = job.select_one(\".base-card__full-link\").get(\"href\")\n",
    "\n",
    "        res2 = requests.get(job_href)\n",
    "        soup = BeautifulSoup(res2.text, 'html.parser')\n",
    "        job_description_section = soup.select_one(\".show-more-less-html__markup\")\n",
    "        job_desc = []\n",
    "        if job_description_section:\n",
    "            job_description = \"\\n\".join([li.get_text(strip=True) for li in job_description_section.find_all('li')])\n",
    "            job_desc.append(job_description)\n",
    "        else:\n",
    "            print(\"Job description not found\")\n",
    "\n",
    "        jobs.append({\"Company\": job_company, \"Title\": job_title, \"Location\": job_location, \"URL\": job_href, \"Description\": job_desc})\n",
    "\n",
    "df = pd.DataFrame(jobs)\n",
    "\n",
    "df.to_excel(\"./linkedin_jobs.xlsx\", index=False)\n",
    "    # jobs_json = json.dumps(jobs, indent=4)\n",
    "    # pprint.pprint(jobs)\n"
   ]
  },
  {
   "cell_type": "code",
   "execution_count": null,
   "metadata": {},
   "outputs": [
    {
     "name": "stdout",
     "output_type": "stream",
     "text": [
      "Responsible for daily production of responsive reporting covering the communities that drive cultural innovation across the state, the ways art intersects with the experiences of our neighbors as well as special projects when required\n",
      "Flags arts and culture leaders in Colorado for on-air radio hosts to regularly feature in KUVO and The Drop programming\n",
      "Develops beat coverage in the arts space and beyond by engaging with communities and maintaining relationships with sources\n",
      "Uses solid news judgment when recognizing relevant and engaging stories that serve our audiences\n",
      "Shoots and edits video assets, including, as needed, full-feature documentaries, social media dispatches, interviews and others while following PBS, NPR, and FCC technical standards for multiple platforms at Rocky Mountain Public Media\n",
      "Writes compelling, original, in-depth stories based on enterprise reporting adhering to RMPBS, PBS and AP style and ethics standards\n",
      "Actively participates in RMPM's Diversity, Equity, and Inclusion (DEI) training program and maintains high standards of ethical behavior when reporting from the field and representing RMPBS to the public\n",
      "Collaborates with outside media partners and RMPM departments on projects and initiatives, establishes regular communications with KUVO and The Drop on news stories that pertain to their audiences\n",
      "Attends daily morning editorial pitch meeting to maintain up-to-date on overall newsroom coverage, receive deadline assignments from editors and identify potential collaborations with colleagues\n",
      "Keeps track of miles traveled, meals and hotel accommodations for budget and expense reporting as well as monitors hours for work completed as part of grants\n",
      "Maintains a spirit of curiosity, experimentation and creativity in trying out new formats and projects\n",
      "Other tasks as assigned and/or required\n",
      "Bachelor's degree in journalism or relevant field\n",
      "1-3 years of experience in journalism and deadline environments\n",
      "Excellent skills in news writing and editing for publication\n",
      "Experienced and adept in video production and video editing\n",
      "Familiar and comfortable creating content for social media\n",
      "A mix of demonstrated skills, abilities and knowledge may be considered in place of educational requirements\n",
      "Preferred Spanish-language proficiency\n",
      "Must be able to work both independently and as a collaborative and productive team member with strong interpersonal skills\n",
      "Must thrive in a deadline environment and possess exceptional time management, decision making and organizational skills\n",
      "Must have a valid driver's license and be insurable for driving station vehicles\n",
      "A drone license or drone-flying experience is preferred\n",
      "A cover letter detailing how the applicant's qualifications fit the needs of RMPM and information on how the applicant found out about the job opening.\n",
      "A resume detailing education, training, and employment experience.\n"
     ]
    }
   ],
   "source": [
    "from bs4 import BeautifulSoup\n",
    "for i in range(0,len(jobs))[2:3]:\n",
    "    href = jobs[i][\"link\"]\n",
    "    res = requests.get(href)\n",
    "    soup = BeautifulSoup(res.text, 'html.parser')\n",
    "    job_description_section = soup.select_one(\".show-more-less-html__markup\")\n",
    "    if job_description_section:\n",
    "        job_description = \"\\n\".join([li.get_text(strip=True) for li in job_description_section.find_all('li')])\n",
    "        print(job_description)\n",
    "    else:\n",
    "        print(\"Job description not found\")\n"
   ]
  }
 ],
 "metadata": {
  "kernelspec": {
   "display_name": "Python 3",
   "language": "python",
   "name": "python3"
  },
  "language_info": {
   "codemirror_mode": {
    "name": "ipython",
    "version": 3
   },
   "file_extension": ".py",
   "mimetype": "text/x-python",
   "name": "python",
   "nbconvert_exporter": "python",
   "pygments_lexer": "ipython3",
   "version": "3.11.2"
  }
 },
 "nbformat": 4,
 "nbformat_minor": 2
}
